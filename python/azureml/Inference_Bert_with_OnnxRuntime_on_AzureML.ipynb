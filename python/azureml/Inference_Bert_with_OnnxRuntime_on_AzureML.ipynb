{
  "cells": [
    {
      "cell_type": "markdown",
      "metadata": {},
      "source": [
        "Copyright (c) Microsoft Corporation. All rights reserved.  \n",
        "Licensed under the MIT License.\n",
        "\n",
        "# Inference Bert Model for High Performance with ONNX Runtime on AzureML #\n",
        "\n",
        "This tutorial takes a pre-trained BERT model, converts it to ONNX, and deploys the ONNX model with ONNX Runtime through AzureML.\n",
        "In the following sections, we are going to use the Bert model trained with Stanford Question Answering Dataset (SQuAD) dataset as an example. Bert SQuAD model is used in question answering scenarios, where the answer to every question is a segment of text, or span, from the corresponding reading passage, or the question might be unanswerable.\n",
        "\n",
        "## Contents\n",
        "\n",
        "**Prerequisites** to set up your Azure ML work environments\n",
        "\n",
        "**Obtain model and convert to ONNX**\n",
        "\n",
        "**Deploy Bert model using ONNX Runtime and AzureML**"
      ]
    },
    {
      "cell_type": "markdown",
      "metadata": {},
      "source": [
        "## Prerequisites\n",
        "\n",
        "To run on AzureML, you need:\n",
        "* Azure subscription\n",
        "* Azure Machine Learning Workspace (see this notebook for creation of the workspace if you do not already have one: [AzureML configuration notebook](https://github.com/Azure/MachineLearningNotebooks/blob/56e0ebc5acb9614fac51d8b98ede5acee8003820/configuration.ipynb))\n",
        "* the Azure Machine Learning SDK\n",
        "* the Azure CLI and the Azure Machine learning CLI extension (> version 2.2.2)\n",
        "\n",
        "You might also find the following resources useful:\n",
        "* Understand the [architecture and terms](https://docs.microsoft.com/azure/machine-learning/service/concept-azure-machine-learning-architecture) introduced by Azure Machine Learning\n",
        "* The [Azure Portal](https://portal.azure.com) allows you to track the status of your deployments."
      ]
    },
    {
      "cell_type": "code",
      "execution_count": 25,
      "metadata": {
        "gather": {
          "logged": 1649374486622
        },
        "jupyter": {
          "outputs_hidden": false,
          "source_hidden": false
        },
        "nteract": {
          "transient": {
            "deleting": false
          }
        }
      },
      "outputs": [
        {
          "name": "stdout",
          "output_type": "stream",
          "text": [
            "Requirement already satisfied: torch in c:\\users\\nakersha\\appdata\\local\\programs\\python\\python38\\lib\\site-packages (1.11.0)\n",
            "Requirement already satisfied: typing-extensions in c:\\users\\nakersha\\appdata\\local\\programs\\python\\python38\\lib\\site-packages (from torch) (4.0.1)\n",
            "Note: you may need to restart the kernel to use updated packages.\n"
          ]
        },
        {
          "name": "stderr",
          "output_type": "stream",
          "text": [
            "WARNING: You are using pip version 22.0.3; however, version 22.0.4 is available.\n",
            "You should consider upgrading via the 'C:\\Users\\nakersha\\AppData\\Local\\Programs\\Python\\Python38\\python.exe -m pip install --upgrade pip' command.\n"
          ]
        },
        {
          "name": "stdout",
          "output_type": "stream",
          "text": [
            "Requirement already satisfied: transformers in c:\\users\\nakersha\\appdata\\local\\programs\\python\\python38\\lib\\site-packages (4.16.2)\n",
            "Requirement already satisfied: tokenizers!=0.11.3,>=0.10.1 in c:\\users\\nakersha\\appdata\\local\\programs\\python\\python38\\lib\\site-packages (from transformers) (0.11.4)\n",
            "Requirement already satisfied: packaging>=20.0 in c:\\users\\nakersha\\appdata\\local\\programs\\python\\python38\\lib\\site-packages (from transformers) (21.3)\n",
            "Requirement already satisfied: requests in c:\\users\\nakersha\\appdata\\local\\programs\\python\\python38\\lib\\site-packages (from transformers) (2.27.1)\n",
            "Requirement already satisfied: filelock in c:\\users\\nakersha\\appdata\\local\\programs\\python\\python38\\lib\\site-packages (from transformers) (3.4.2)\n",
            "Requirement already satisfied: sacremoses in c:\\users\\nakersha\\appdata\\local\\programs\\python\\python38\\lib\\site-packages (from transformers) (0.0.47)\n",
            "Requirement already satisfied: pyyaml>=5.1 in c:\\users\\nakersha\\appdata\\local\\programs\\python\\python38\\lib\\site-packages (from transformers) (6.0)\n",
            "Requirement already satisfied: huggingface-hub<1.0,>=0.1.0 in c:\\users\\nakersha\\appdata\\local\\programs\\python\\python38\\lib\\site-packages (from transformers) (0.4.0)\n",
            "Requirement already satisfied: tqdm>=4.27 in c:\\users\\nakersha\\appdata\\local\\programs\\python\\python38\\lib\\site-packages (from transformers) (4.62.3)\n",
            "Requirement already satisfied: regex!=2019.12.17 in c:\\users\\nakersha\\appdata\\local\\programs\\python\\python38\\lib\\site-packages (from transformers) (2022.1.18)\n",
            "Requirement already satisfied: numpy>=1.17 in c:\\users\\nakersha\\appdata\\local\\programs\\python\\python38\\lib\\site-packages (from transformers) (1.22.2)\n",
            "Requirement already satisfied: typing-extensions>=3.7.4.3 in c:\\users\\nakersha\\appdata\\local\\programs\\python\\python38\\lib\\site-packages (from huggingface-hub<1.0,>=0.1.0->transformers) (4.0.1)\n",
            "Requirement already satisfied: pyparsing!=3.0.5,>=2.0.2 in c:\\users\\nakersha\\appdata\\local\\programs\\python\\python38\\lib\\site-packages (from packaging>=20.0->transformers) (3.0.7)\n",
            "Requirement already satisfied: colorama in c:\\users\\nakersha\\appdata\\local\\programs\\python\\python38\\lib\\site-packages (from tqdm>=4.27->transformers) (0.4.4)\n",
            "Requirement already satisfied: urllib3<1.27,>=1.21.1 in c:\\users\\nakersha\\appdata\\local\\programs\\python\\python38\\lib\\site-packages (from requests->transformers) (1.26.7)\n",
            "Requirement already satisfied: certifi>=2017.4.17 in c:\\users\\nakersha\\appdata\\roaming\\python\\python38\\site-packages (from requests->transformers) (2021.5.30)\n",
            "Requirement already satisfied: idna<4,>=2.5 in c:\\users\\nakersha\\appdata\\local\\programs\\python\\python38\\lib\\site-packages (from requests->transformers) (3.3)\n",
            "Requirement already satisfied: charset-normalizer~=2.0.0 in c:\\users\\nakersha\\appdata\\local\\programs\\python\\python38\\lib\\site-packages (from requests->transformers) (2.0.11)\n",
            "Requirement already satisfied: click in c:\\users\\nakersha\\appdata\\local\\programs\\python\\python38\\lib\\site-packages (from sacremoses->transformers) (8.0.3)\n",
            "Requirement already satisfied: six in c:\\users\\nakersha\\appdata\\local\\programs\\python\\python38\\lib\\site-packages (from sacremoses->transformers) (1.16.0)\n",
            "Requirement already satisfied: joblib in c:\\users\\nakersha\\appdata\\local\\programs\\python\\python38\\lib\\site-packages (from sacremoses->transformers) (1.1.0)\n",
            "Note: you may need to restart the kernel to use updated packages.\n"
          ]
        },
        {
          "name": "stderr",
          "output_type": "stream",
          "text": [
            "WARNING: You are using pip version 22.0.3; however, version 22.0.4 is available.\n",
            "You should consider upgrading via the 'C:\\Users\\nakersha\\AppData\\Local\\Programs\\Python\\Python38\\python.exe -m pip install --upgrade pip' command.\n"
          ]
        },
        {
          "name": "stdout",
          "output_type": "stream",
          "text": [
            "Requirement already satisfied: azureml in c:\\users\\nakersha\\appdata\\local\\programs\\python\\python38\\lib\\site-packages (0.2.7)\n",
            "Requirement already satisfied: azureml.core in c:\\users\\nakersha\\appdata\\local\\programs\\python\\python38\\lib\\site-packages (1.40.0.post2)\n",
            "Requirement already satisfied: python-dateutil in c:\\users\\nakersha\\appdata\\local\\programs\\python\\python38\\lib\\site-packages (from azureml) (2.8.2)\n",
            "Requirement already satisfied: pandas in c:\\users\\nakersha\\appdata\\local\\programs\\python\\python38\\lib\\site-packages (from azureml) (1.4.1)\n",
            "Requirement already satisfied: requests in c:\\users\\nakersha\\appdata\\local\\programs\\python\\python38\\lib\\site-packages (from azureml) (2.27.1)\n",
            "Requirement already satisfied: azure-graphrbac<1.0.0,>=0.40.0 in c:\\users\\nakersha\\appdata\\local\\programs\\python\\python38\\lib\\site-packages (from azureml.core) (0.61.1)\n",
            "Requirement already satisfied: knack~=0.9.0 in c:\\users\\nakersha\\appdata\\local\\programs\\python\\python38\\lib\\site-packages (from azureml.core) (0.9.0)\n",
            "Requirement already satisfied: urllib3<=1.26.7,>=1.23 in c:\\users\\nakersha\\appdata\\local\\programs\\python\\python38\\lib\\site-packages (from azureml.core) (1.26.7)\n",
            "Requirement already satisfied: jmespath<1.0.0 in c:\\users\\nakersha\\appdata\\local\\programs\\python\\python38\\lib\\site-packages (from azureml.core) (0.10.0)\n",
            "Requirement already satisfied: humanfriendly<11.0,>=4.7 in c:\\users\\nakersha\\appdata\\local\\programs\\python\\python38\\lib\\site-packages (from azureml.core) (10.0)\n",
            "Requirement already satisfied: docker<6.0.0 in c:\\users\\nakersha\\appdata\\local\\programs\\python\\python38\\lib\\site-packages (from azureml.core) (5.0.3)\n",
            "Requirement already satisfied: pkginfo in c:\\users\\nakersha\\appdata\\roaming\\python\\python38\\site-packages (from azureml.core) (1.7.1)\n",
            "Requirement already satisfied: msrest<1.0.0,>=0.5.1 in c:\\users\\nakersha\\appdata\\local\\programs\\python\\python38\\lib\\site-packages (from azureml.core) (0.6.21)\n",
            "Requirement already satisfied: PyJWT<3.0.0 in c:\\users\\nakersha\\appdata\\local\\programs\\python\\python38\\lib\\site-packages (from azureml.core) (2.3.0)\n",
            "Requirement already satisfied: cryptography!=1.9,!=2.0.*,!=2.1.*,!=2.2.*,<37.0.0 in c:\\users\\nakersha\\appdata\\roaming\\python\\python38\\site-packages (from azureml.core) (3.3.2)\n",
            "Requirement already satisfied: azure-mgmt-authorization<1.0.0,>=0.40.0 in c:\\users\\nakersha\\appdata\\local\\programs\\python\\python38\\lib\\site-packages (from azureml.core) (0.61.0)\n",
            "Requirement already satisfied: msrestazure<=0.6.4,>=0.4.33 in c:\\users\\nakersha\\appdata\\local\\programs\\python\\python38\\lib\\site-packages (from azureml.core) (0.6.4)\n",
            "Requirement already satisfied: azure-mgmt-storage<20.0.0,>=16.0.0 in c:\\users\\nakersha\\appdata\\local\\programs\\python\\python38\\lib\\site-packages (from azureml.core) (19.1.0)\n",
            "Requirement already satisfied: jsonpickle<3.0.0 in c:\\users\\nakersha\\appdata\\local\\programs\\python\\python38\\lib\\site-packages (from azureml.core) (2.1.0)\n",
            "Requirement already satisfied: azure-common<2.0.0,>=1.1.12 in c:\\users\\nakersha\\appdata\\local\\programs\\python\\python38\\lib\\site-packages (from azureml.core) (1.1.28)\n",
            "Requirement already satisfied: adal<=1.2.7,>=1.2.0 in c:\\users\\nakersha\\appdata\\local\\programs\\python\\python38\\lib\\site-packages (from azureml.core) (1.2.7)\n",
            "Requirement already satisfied: azure-mgmt-containerregistry<9.0.0,>=8.2.0 in c:\\users\\nakersha\\appdata\\local\\programs\\python\\python38\\lib\\site-packages (from azureml.core) (8.2.0)\n",
            "Requirement already satisfied: azure-core<1.22 in c:\\users\\nakersha\\appdata\\local\\programs\\python\\python38\\lib\\site-packages (from azureml.core) (1.21.1)\n",
            "Requirement already satisfied: packaging<22.0,>=20.0 in c:\\users\\nakersha\\appdata\\local\\programs\\python\\python38\\lib\\site-packages (from azureml.core) (21.3)\n",
            "Requirement already satisfied: SecretStorage<4.0.0 in c:\\users\\nakersha\\appdata\\local\\programs\\python\\python38\\lib\\site-packages (from azureml.core) (3.3.1)\n",
            "Requirement already satisfied: pyopenssl<22.0.0 in c:\\users\\nakersha\\appdata\\local\\programs\\python\\python38\\lib\\site-packages (from azureml.core) (21.0.0)\n",
            "Requirement already satisfied: backports.tempfile in c:\\users\\nakersha\\appdata\\local\\programs\\python\\python38\\lib\\site-packages (from azureml.core) (1.0)\n",
            "Requirement already satisfied: msal<2.0.0,>=1.15.0 in c:\\users\\nakersha\\appdata\\local\\programs\\python\\python38\\lib\\site-packages (from azureml.core) (1.17.0)\n",
            "Requirement already satisfied: pytz in c:\\users\\nakersha\\appdata\\local\\programs\\python\\python38\\lib\\site-packages (from azureml.core) (2022.1)\n",
            "Requirement already satisfied: msal-extensions<0.4,>=0.3.0 in c:\\users\\nakersha\\appdata\\local\\programs\\python\\python38\\lib\\site-packages (from azureml.core) (0.3.1)\n",
            "Requirement already satisfied: paramiko<3.0.0,>=2.0.8 in c:\\users\\nakersha\\appdata\\local\\programs\\python\\python38\\lib\\site-packages (from azureml.core) (2.10.3)\n",
            "Requirement already satisfied: contextlib2<22.0.0 in c:\\users\\nakersha\\appdata\\local\\programs\\python\\python38\\lib\\site-packages (from azureml.core) (21.6.0)\n",
            "Requirement already satisfied: argcomplete<2.0 in c:\\users\\nakersha\\appdata\\local\\programs\\python\\python38\\lib\\site-packages (from azureml.core) (1.12.3)\n",
            "Requirement already satisfied: pathspec<1.0.0 in c:\\users\\nakersha\\appdata\\local\\programs\\python\\python38\\lib\\site-packages (from azureml.core) (0.9.0)\n",
            "Requirement already satisfied: ndg-httpsclient<=0.5.1 in c:\\users\\nakersha\\appdata\\local\\programs\\python\\python38\\lib\\site-packages (from azureml.core) (0.5.1)\n",
            "Requirement already satisfied: azure-mgmt-keyvault<10.0.0,>=0.40.0 in c:\\users\\nakersha\\appdata\\local\\programs\\python\\python38\\lib\\site-packages (from azureml.core) (9.3.0)\n",
            "Requirement already satisfied: azure-mgmt-resource<21.0.0,>=15.0.0 in c:\\users\\nakersha\\appdata\\local\\programs\\python\\python38\\lib\\site-packages (from azureml.core) (20.1.0)\n",
            "Requirement already satisfied: six>=1.11.0 in c:\\users\\nakersha\\appdata\\local\\programs\\python\\python38\\lib\\site-packages (from azure-core<1.22->azureml.core) (1.16.0)\n",
            "Requirement already satisfied: azure-mgmt-core<2.0.0,>=1.2.0 in c:\\users\\nakersha\\appdata\\local\\programs\\python\\python38\\lib\\site-packages (from azure-mgmt-containerregistry<9.0.0,>=8.2.0->azureml.core) (1.3.0)\n",
            "Requirement already satisfied: cffi>=1.12 in c:\\users\\nakersha\\appdata\\local\\programs\\python\\python38\\lib\\site-packages (from cryptography!=1.9,!=2.0.*,!=2.1.*,!=2.2.*,<37.0.0->azureml.core) (1.15.0)\n",
            "Requirement already satisfied: websocket-client>=0.32.0 in c:\\users\\nakersha\\appdata\\local\\programs\\python\\python38\\lib\\site-packages (from docker<6.0.0->azureml.core) (1.3.2)\n",
            "Requirement already satisfied: pywin32==227 in c:\\users\\nakersha\\appdata\\local\\programs\\python\\python38\\lib\\site-packages (from docker<6.0.0->azureml.core) (227)\n",
            "Requirement already satisfied: pyreadline3 in c:\\users\\nakersha\\appdata\\local\\programs\\python\\python38\\lib\\site-packages (from humanfriendly<11.0,>=4.7->azureml.core) (3.4.1)\n",
            "Requirement already satisfied: pygments in c:\\users\\nakersha\\appdata\\roaming\\python\\python38\\site-packages (from knack~=0.9.0->azureml.core) (2.11.2)\n",
            "Requirement already satisfied: tabulate in c:\\users\\nakersha\\appdata\\local\\programs\\python\\python38\\lib\\site-packages (from knack~=0.9.0->azureml.core) (0.8.9)\n",
            "Requirement already satisfied: pyyaml in c:\\users\\nakersha\\appdata\\local\\programs\\python\\python38\\lib\\site-packages (from knack~=0.9.0->azureml.core) (6.0)\n",
            "Requirement already satisfied: portalocker<3,>=1.6 in c:\\users\\nakersha\\appdata\\local\\programs\\python\\python38\\lib\\site-packages (from msal-extensions<0.4,>=0.3.0->azureml.core) (2.4.0)\n",
            "Requirement already satisfied: certifi>=2017.4.17 in c:\\users\\nakersha\\appdata\\roaming\\python\\python38\\site-packages (from msrest<1.0.0,>=0.5.1->azureml.core) (2021.5.30)\n",
            "Requirement already satisfied: isodate>=0.6.0 in c:\\users\\nakersha\\appdata\\local\\programs\\python\\python38\\lib\\site-packages (from msrest<1.0.0,>=0.5.1->azureml.core) (0.6.1)\n",
            "Requirement already satisfied: requests-oauthlib>=0.5.0 in c:\\users\\nakersha\\appdata\\local\\programs\\python\\python38\\lib\\site-packages (from msrest<1.0.0,>=0.5.1->azureml.core) (1.3.1)\n",
            "Requirement already satisfied: pyasn1>=0.1.1 in c:\\users\\nakersha\\appdata\\local\\programs\\python\\python38\\lib\\site-packages (from ndg-httpsclient<=0.5.1->azureml.core) (0.4.8)\n",
            "Requirement already satisfied: pyparsing!=3.0.5,>=2.0.2 in c:\\users\\nakersha\\appdata\\local\\programs\\python\\python38\\lib\\site-packages (from packaging<22.0,>=20.0->azureml.core) (3.0.7)\n",
            "Requirement already satisfied: pynacl>=1.0.1 in c:\\users\\nakersha\\appdata\\local\\programs\\python\\python38\\lib\\site-packages (from paramiko<3.0.0,>=2.0.8->azureml.core) (1.5.0)\n",
            "Requirement already satisfied: bcrypt>=3.1.3 in c:\\users\\nakersha\\appdata\\roaming\\python\\python38\\site-packages (from paramiko<3.0.0,>=2.0.8->azureml.core) (3.2.0)\n",
            "Requirement already satisfied: charset-normalizer~=2.0.0 in c:\\users\\nakersha\\appdata\\local\\programs\\python\\python38\\lib\\site-packages (from requests->azureml) (2.0.11)\n",
            "Requirement already satisfied: idna<4,>=2.5 in c:\\users\\nakersha\\appdata\\local\\programs\\python\\python38\\lib\\site-packages (from requests->azureml) (3.3)\n",
            "Requirement already satisfied: PySocks!=1.5.7,>=1.5.6 in c:\\users\\nakersha\\appdata\\local\\programs\\python\\python38\\lib\\site-packages (from requests->azureml) (1.7.1)\n",
            "Requirement already satisfied: jeepney>=0.6 in c:\\users\\nakersha\\appdata\\local\\programs\\python\\python38\\lib\\site-packages (from SecretStorage<4.0.0->azureml.core) (0.8.0)\n",
            "Requirement already satisfied: backports.weakref in c:\\users\\nakersha\\appdata\\local\\programs\\python\\python38\\lib\\site-packages (from backports.tempfile->azureml.core) (1.0.post1)\n",
            "Requirement already satisfied: numpy>=1.18.5 in c:\\users\\nakersha\\appdata\\local\\programs\\python\\python38\\lib\\site-packages (from pandas->azureml) (1.22.2)\n",
            "Requirement already satisfied: pycparser in c:\\users\\nakersha\\appdata\\local\\programs\\python\\python38\\lib\\site-packages (from cffi>=1.12->cryptography!=1.9,!=2.0.*,!=2.1.*,!=2.2.*,<37.0.0->azureml.core) (2.21)\n",
            "Requirement already satisfied: oauthlib>=3.0.0 in c:\\users\\nakersha\\appdata\\local\\programs\\python\\python38\\lib\\site-packages (from requests-oauthlib>=0.5.0->msrest<1.0.0,>=0.5.1->azureml.core) (3.2.0)\n",
            "Note: you may need to restart the kernel to use updated packages.\n"
          ]
        },
        {
          "name": "stderr",
          "output_type": "stream",
          "text": [
            "WARNING: You are using pip version 22.0.3; however, version 22.0.4 is available.\n",
            "You should consider upgrading via the 'C:\\Users\\nakersha\\AppData\\Local\\Programs\\Python\\Python38\\python.exe -m pip install --upgrade pip' command.\n"
          ]
        },
        {
          "name": "stdout",
          "output_type": "stream",
          "text": [
            "Requirement already satisfied: onnxruntime in c:\\users\\nakersha\\appdata\\local\\programs\\python\\python38\\lib\\site-packages (1.10.0)\n",
            "Requirement already satisfied: numpy>=1.16.6 in c:\\users\\nakersha\\appdata\\local\\programs\\python\\python38\\lib\\site-packages (from onnxruntime) (1.22.2)\n",
            "Requirement already satisfied: protobuf in c:\\users\\nakersha\\appdata\\local\\programs\\python\\python38\\lib\\site-packages (from onnxruntime) (3.19.4)\n",
            "Requirement already satisfied: flatbuffers in c:\\users\\nakersha\\appdata\\local\\programs\\python\\python38\\lib\\site-packages (from onnxruntime) (2.0)\n",
            "Note: you may need to restart the kernel to use updated packages.\n"
          ]
        },
        {
          "name": "stderr",
          "output_type": "stream",
          "text": [
            "WARNING: You are using pip version 22.0.3; however, version 22.0.4 is available.\n",
            "You should consider upgrading via the 'C:\\Users\\nakersha\\AppData\\Local\\Programs\\Python\\Python38\\python.exe -m pip install --upgrade pip' command.\n"
          ]
        },
        {
          "name": "stdout",
          "output_type": "stream",
          "text": [
            "Requirement already satisfied: matplotlib in c:\\users\\nakersha\\appdata\\local\\programs\\python\\python38\\lib\\site-packages (3.5.1)\n",
            "Requirement already satisfied: kiwisolver>=1.0.1 in c:\\users\\nakersha\\appdata\\local\\programs\\python\\python38\\lib\\site-packages (from matplotlib) (1.4.2)\n",
            "Requirement already satisfied: python-dateutil>=2.7 in c:\\users\\nakersha\\appdata\\local\\programs\\python\\python38\\lib\\site-packages (from matplotlib) (2.8.2)\n",
            "Requirement already satisfied: pyparsing>=2.2.1 in c:\\users\\nakersha\\appdata\\local\\programs\\python\\python38\\lib\\site-packages (from matplotlib) (3.0.7)\n",
            "Requirement already satisfied: packaging>=20.0 in c:\\users\\nakersha\\appdata\\local\\programs\\python\\python38\\lib\\site-packages (from matplotlib) (21.3)\n",
            "Requirement already satisfied: pillow>=6.2.0 in c:\\users\\nakersha\\appdata\\local\\programs\\python\\python38\\lib\\site-packages (from matplotlib) (9.0.1)\n",
            "Requirement already satisfied: cycler>=0.10 in c:\\users\\nakersha\\appdata\\local\\programs\\python\\python38\\lib\\site-packages (from matplotlib) (0.11.0)\n",
            "Requirement already satisfied: numpy>=1.17 in c:\\users\\nakersha\\appdata\\local\\programs\\python\\python38\\lib\\site-packages (from matplotlib) (1.22.2)\n",
            "Requirement already satisfied: fonttools>=4.22.0 in c:\\users\\nakersha\\appdata\\local\\programs\\python\\python38\\lib\\site-packages (from matplotlib) (4.32.0)\n",
            "Requirement already satisfied: six>=1.5 in c:\\users\\nakersha\\appdata\\local\\programs\\python\\python38\\lib\\site-packages (from python-dateutil>=2.7->matplotlib) (1.16.0)\n",
            "Note: you may need to restart the kernel to use updated packages.\n"
          ]
        },
        {
          "name": "stderr",
          "output_type": "stream",
          "text": [
            "WARNING: You are using pip version 22.0.3; however, version 22.0.4 is available.\n",
            "You should consider upgrading via the 'C:\\Users\\nakersha\\AppData\\Local\\Programs\\Python\\Python38\\python.exe -m pip install --upgrade pip' command.\n"
          ]
        }
      ],
      "source": [
        "# To install dependencies directly run the following\n",
        "%pip install torch\n",
        "%pip install transformers\n",
        "%pip install azureml azureml.core\n",
        "%pip install onnxruntime\n",
        "%pip install matplotlib\n",
        "\n",
        "# To create a a Jupter kernel from your conda environment, run the following. replacing <kernel name> with your own name\n",
        "#   conda install -c anaconda ipykernel\n",
        "#   python -m ipykernel install --user --name=<kernel name>"
      ]
    },
    {
      "cell_type": "markdown",
      "metadata": {},
      "source": [
        "Install the AzureML CLI extension, which is used in the deployment steps below"
      ]
    },
    {
      "cell_type": "code",
      "execution_count": 13,
      "metadata": {},
      "outputs": [
        {
          "name": "stderr",
          "output_type": "stream",
          "text": [
            "WARNING: Extension 'ml' is already installed.\n"
          ]
        }
      ],
      "source": [
        "!az extension add --name ml\n"
      ]
    },
    {
      "cell_type": "markdown",
      "metadata": {},
      "source": [
        "## Obtain and convert PyTorch model to ONNX format\n",
        "\n",
        "In the code below, we obtain a BERT model fine-tuned for question answering with the SQUAD dataset from HuggingFace.\n",
        "\n",
        "If you'd like to pre-train a BERT model from scratch, follow the instructions in\n",
        "[Pretraining of the BERT model](https://github.com/microsoft/AzureML-BERT/blob/master/pretrain/PyTorch/notebooks/BERT_Pretrain.ipynb). \n",
        "And if you would like to fine-tune the model with your own dataset, refer to  [AzureML Bert Eval Squad](https://github.com/microsoft/AzureML-BERT/blob/master/finetune/PyTorch/notebooks/BERT_Eval_SQUAD.ipynb)\n",
        "or [AzureML Bert Eval GLUE](https://github.com/microsoft/AzureML-BERT/blob/master/finetune/PyTorch/notebooks/BERT_Eval_GLUE.ipynb).\n"
      ]
    },
    {
      "cell_type": "markdown",
      "metadata": {
        "nteract": {
          "transient": {
            "deleting": false
          }
        }
      },
      "source": [
        "### Export the model\n",
        "\n",
        "Use the PyTorch ONNX exporter to create a model in ONNX format, to be run with ONNX Runtime."
      ]
    },
    {
      "cell_type": "code",
      "execution_count": 42,
      "metadata": {
        "gather": {
          "logged": 1649374524671
        },
        "jupyter": {
          "outputs_hidden": true
        }
      },
      "outputs": [
        {
          "name": "stdout",
          "output_type": "stream",
          "text": [
            "Overwriting export.py\n"
          ]
        }
      ],
      "source": [
        "%%writefile export.py\n",
        "\n",
        "import torch\n",
        "from transformers import BertForQuestionAnswering\n",
        "\n",
        "model_name = \"bert-large-uncased-whole-word-masking-finetuned-squad\"\n",
        "model_path = \"./\" + model_name + \".onnx\"\n",
        "model = BertForQuestionAnswering.from_pretrained(model_name)\n",
        "\n",
        "# set the model to inference mode\n",
        "# It is important to call torch_model.eval() or torch_model.train(False) before exporting the model, \n",
        "# to turn the model to inference mode. This is required since operators like dropout or batchnorm \n",
        "# behave differently in inference and training mode.\n",
        "model.eval()\n",
        "\n",
        "# Generate dummy inputs to the model. Adjust if neccessary\n",
        "inputs = {\n",
        "        'input_ids':   torch.randint(32, [1, 32], dtype=torch.long), # list of numerical ids for the tokenized text\n",
        "        'attention_mask': torch.ones([1, 32], dtype=torch.long),     # dummy list of ones\n",
        "        'token_type_ids':  torch.ones([1, 32], dtype=torch.long)     # dummy list of ones\n",
        "    }\n",
        "\n",
        "symbolic_names = {0: 'batch_size', 1: 'max_seq_len'}\n",
        "torch.onnx.export(model,                                         # model being run\n",
        "                  (inputs['input_ids'],\n",
        "                   inputs['attention_mask'], \n",
        "                   inputs['token_type_ids']),                    # model input (or a tuple for multiple inputs)\n",
        "                  model_path,                                    # where to save the model (can be a file or file-like object)\n",
        "                  opset_version=11,                              # the ONNX version to export the model to\n",
        "                  do_constant_folding=True,                      # whether to execute constant folding for optimization\n",
        "                  input_names=['input_ids',\n",
        "                               'input_mask', \n",
        "                               'segment_ids'],                   # the model's input names\n",
        "                  output_names=['start_logits', \"end_logits\"],   # the model's output names\n",
        "                  dynamic_axes={'input_ids': symbolic_names,\n",
        "                                'input_mask' : symbolic_names,\n",
        "                                'segment_ids' : symbolic_names,\n",
        "                                'start_logits' : symbolic_names, \n",
        "                                'end_logits': symbolic_names})   # variable length axes"
      ]
    },
    {
      "cell_type": "code",
      "execution_count": 43,
      "metadata": {},
      "outputs": [],
      "source": [
        "%run export.py"
      ]
    },
    {
      "cell_type": "markdown",
      "metadata": {
        "nteract": {
          "transient": {
            "deleting": false
          }
        }
      },
      "source": [
        "## Run the ONNX model with ONNX Runtime\n",
        "\n",
        "The following code runs the ONNX model with ONNX Runtime. You can test it locally before deploying it to Azure Machine Learning.\n",
        "\n",
        "The `init()` function is called at startup, performing the one-off operations such as creating the tokenizer and the ONNX Runtime session.\n",
        "\n",
        "The `run()` function is called when we run the model using the Azure ML endpoint.\n",
        "Add necessary `preprocess()` and `postprocess()` steps.\n",
        "\n",
        "For local testing and comparison, you can also run the PyTorch model."
      ]
    },
    {
      "cell_type": "code",
      "execution_count": 40,
      "metadata": {
        "jupyter": {
          "outputs_hidden": false,
          "source_hidden": false
        },
        "nteract": {
          "transient": {
            "deleting": false
          }
        }
      },
      "outputs": [
        {
          "name": "stdout",
          "output_type": "stream",
          "text": [
            "Overwriting score.py\n"
          ]
        }
      ],
      "source": [
        "%%writefile score.py\n",
        "import os\n",
        "import logging\n",
        "import json\n",
        "import numpy as np\n",
        "import onnxruntime\n",
        "import transformers\n",
        "import torch\n",
        "\n",
        "# The pre process function take a question and a context, and generates the tensor inputs to the model:\n",
        "# - input_ids: the words in the question encoded as integers\n",
        "# - attention_mask: not used in this model\n",
        "# - token_type_ids: a list of 0s and 1s that distinguish between the words of the question and the words of the context\n",
        "# This function also returns the words contained in the question and the context, so that the answer can be decoded into a phrase. \n",
        "def preprocess(question, context):\n",
        "    encoded_input = tokenizer(question, context)\n",
        "    tokens = tokenizer.convert_ids_to_tokens(encoded_input.input_ids)\n",
        "    return (encoded_input.input_ids, encoded_input.attention_mask, encoded_input.token_type_ids, tokens)\n",
        "\n",
        "# The post process function takes the list of tokens in the question and context, as well as the output of the \n",
        "# model, the list of log probabilities for the choices of start and end of the answer, and maps it back to an\n",
        "# answer to the question that is asked of the context.\n",
        "def postprocess(tokens, start, end):\n",
        "    results = {}\n",
        "    answer_start = np.argmax(start)\n",
        "    answer_end = np.argmax(end)\n",
        "    if answer_end >= answer_start:\n",
        "        answer = tokens[answer_start]\n",
        "        for i in range(answer_start+1, answer_end+1):\n",
        "            if tokens[i][0:2] == \"##\":\n",
        "                answer += tokens[i][2:]\n",
        "            else:\n",
        "                answer += \" \" + tokens[i]\n",
        "        results['answer'] = answer.capitalize()\n",
        "    else:\n",
        "        results['error'] = \"I am unable to find the answer to this question. Can you please ask another question?\"\n",
        "    return results\n",
        "\n",
        "# Perform the one-off intialization for the prediction. The init code is run once when the endpoint is setup.\n",
        "def init():\n",
        "    global tokenizer, session, model\n",
        "\n",
        "    model_name = \"bert-large-uncased-whole-word-masking-finetuned-squad\"\n",
        "    model = transformers.BertForQuestionAnswering.from_pretrained(model_name)\n",
        "\n",
        "    # use AZUREML_MODEL_DIR to get your deployed model(s). If multiple models are deployed, \n",
        "    # model_path = os.path.join(os.getenv('AZUREML_MODEL_DIR'), '$MODEL_NAME/$VERSION/$MODEL_FILE_NAME')\n",
        "    model_dir = os.getenv('AZUREML_MODEL_DIR')\n",
        "    if model_dir == None:\n",
        "        model_dir = \"./\"\n",
        "    model_path = os.path.join(model_dir, model_name + \".onnx\")\n",
        "\n",
        "    # Create the tokenizer\n",
        "    tokenizer = transformers.BertTokenizer.from_pretrained(model_name)\n",
        "\n",
        "    # Create an ONNX Runtime session to run the ONNX model\n",
        "    session = onnxruntime.InferenceSession(model_path, providers=[\"CPUExecutionProvider\"])  \n",
        "\n",
        "\n",
        "# Run the PyTorch model, for functional and performance comparison\n",
        "def run_pytorch(raw_data):\n",
        "    inputs = json.loads(raw_data)\n",
        "\n",
        "    model.eval()\n",
        "\n",
        "    logging.info(\"Question:\", inputs[\"question\"])\n",
        "    logging.info(\"Context: \", inputs[\"context\"])\n",
        "\n",
        "    input_ids, input_mask, segment_ids, tokens = preprocess(inputs[\"question\"], inputs[\"context\"])\n",
        "\n",
        "    model_outputs = model(torch.tensor([input_ids]),  token_type_ids=torch.tensor([segment_ids]))\n",
        "\n",
        "    return postprocess(tokens, model_outputs.start_logits.detach().numpy(), model_outputs.end_logits.detach().numpy())\n",
        "\n",
        "# Run the ONNX model with ONNX Runtime\n",
        "def run(raw_data):\n",
        "    logging.info(\"Request received\")\n",
        "\n",
        "    inputs = json.loads(raw_data)\n",
        "\n",
        "    logging.info(inputs)\n",
        "\n",
        "    # Preprocess the question and context into tokenized ids\n",
        "    input_ids, input_mask, segment_ids, tokens = preprocess(inputs[\"question\"], inputs[\"context\"])\n",
        "\n",
        "    logging.info(\"Running inference\")\n",
        "    \n",
        "    # Format the inputs for ONNX Runtime\n",
        "    model_inputs = {\n",
        "        'input_ids':   [input_ids], \n",
        "        'input_mask':  [input_mask],\n",
        "        'segment_ids': [segment_ids]\n",
        "        }\n",
        "                  \n",
        "    outputs = session.run(['start_logits', 'end_logits'], model_inputs)\n",
        "\n",
        "    logging.info(\"Post-processing\")  \n",
        "\n",
        "    # Post process the output of the model into an answer (or an error if the question could not be answered)\n",
        "    results = postprocess(tokens, outputs[0], outputs[1])\n",
        "\n",
        "    logging.info(results)\n",
        "\n",
        "    return results\n",
        "\n",
        "\n",
        "if __name__ == '__main__':\n",
        "    init()\n",
        "\n",
        "    input = \"{\\\"question\\\": \\\"What is Dolly Parton's middle name?\\\", \\\"context\\\": \\\"Dolly Rebecca Parton is an American singer-songwriter\\\"}\"\n",
        "\n",
        "    run_pytorch(input)\n",
        "    print(run(input))\n",
        "\n"
      ]
    },
    {
      "cell_type": "code",
      "execution_count": 44,
      "metadata": {
        "jupyter": {
          "outputs_hidden": false,
          "source_hidden": false
        },
        "nteract": {
          "transient": {
            "deleting": false
          }
        }
      },
      "outputs": [
        {
          "name": "stdout",
          "output_type": "stream",
          "text": [
            "{'answer': 'Rebecca'}\n"
          ]
        }
      ],
      "source": [
        "%run score.py"
      ]
    },
    {
      "cell_type": "markdown",
      "metadata": {},
      "source": [
        "## Deploy model with ONNX Runtime through AzureML\n",
        "\n",
        "Now that we have the ONNX model and the code to run it with ONNX Runtime, we can deploy it using Azure ML.\n",
        "\n"
      ]
    },
    {
      "cell_type": "markdown",
      "metadata": {},
      "source": [
        "### Check your environment"
      ]
    },
    {
      "cell_type": "code",
      "execution_count": 26,
      "metadata": {
        "gather": {
          "logged": 1649374558896
        }
      },
      "outputs": [
        {
          "name": "stdout",
          "output_type": "stream",
          "text": [
            "Transformers version:  4.16.2\n",
            "Torch (ONNX exporter) version:  1.11.0+cpu\n",
            "Azure SDK version: 1.40.0\n",
            "ONNX Runtime version:  1.10.0\n"
          ]
        }
      ],
      "source": [
        "# Check core SDK version number\n",
        "import azureml.core\n",
        "import onnxruntime\n",
        "import torch\n",
        "import transformers\n",
        "\n",
        "print(\"Transformers version: \", transformers.__version__)\n",
        "torch_version = torch.__version__\n",
        "print(\"Torch (ONNX exporter) version: \", torch_version)\n",
        "print(\"Azure SDK version:\", azureml.core.VERSION)\n",
        "print(\"ONNX Runtime version: \", onnxruntime.__version__)\n"
      ]
    },
    {
      "cell_type": "markdown",
      "metadata": {},
      "source": [
        "### Load your Azure ML workspace\n",
        "\n",
        "We begin by instantiating a workspace object from the existing workspace created earlier in the configuration notebook.\n",
        "\n",
        "Note that the following code assumes you have a `config.json` file containing the subscription information in the same directory as the notebook, or in a sub-directory called `.azureml`. You can also supply the workspace name, subscription name, and resource group explicity using the `Workspace.get()` method."
      ]
    },
    {
      "cell_type": "code",
      "execution_count": 7,
      "metadata": {},
      "outputs": [
        {
          "name": "stdout",
          "output_type": "stream",
          "text": [
            "ort_training_dev\n",
            "australiaeast\n",
            "onnx_training\n",
            "ea482afa-3a32-437c-aa10-7de928a9e793\n"
          ]
        }
      ],
      "source": [
        "import os\n",
        "from azureml.core import Workspace\n",
        "\n",
        "ws = Workspace.from_config()\n",
        "print(ws.name, ws.location, ws.resource_group, ws.subscription_id, sep = '\\n')"
      ]
    },
    {
      "cell_type": "markdown",
      "metadata": {},
      "source": [
        "### Register your model with Azure ML\n",
        "\n",
        "Now we upload the model and register it in the workspace.\n"
      ]
    },
    {
      "cell_type": "code",
      "execution_count": 14,
      "metadata": {
        "gather": {
          "logged": 1649374588035
        }
      },
      "outputs": [
        {
          "name": "stdout",
          "output_type": "stream",
          "text": [
            "./bert-large-uncased-whole-word-masking-finetuned-squad.onnx\n",
            "bert-large-uncased-whole-word-masking-finetuned-squad\n",
            "Registering model bert-large-uncased-whole-word-masking-finetuned-squad\n"
          ]
        }
      ],
      "source": [
        "from azureml.core.model import Model\n",
        "\n",
        "model = Model.register(model_path = model_path,                 # Name of the registered model in your workspace.\n",
        "                       model_name = model_name,            # Local ONNX model to upload and register as a model\n",
        "                       model_framework=Model.Framework.ONNX ,   # Framework used to create the model.\n",
        "                       model_framework_version=torch_version,   # Version of ONNX used to create the model.\n",
        "                       tags = {\"onnx\": \"demo\"},\n",
        "                       description = \"HuggingFace Bert model fine-tuned with SQuAd and exported from PyTorch\",\n",
        "                       workspace = ws)"
      ]
    },
    {
      "cell_type": "markdown",
      "metadata": {},
      "source": [
        "#### Display your registered models\n",
        "\n",
        "You can list out all the models that you have registered in this workspace."
      ]
    },
    {
      "cell_type": "code",
      "execution_count": 15,
      "metadata": {
        "gather": {
          "logged": 1649374588649
        }
      },
      "outputs": [
        {
          "name": "stdout",
          "output_type": "stream",
          "text": [
            "Name: hf-gpt2.onnx \tVersion: 1 \tDescription: ONNX version of base HuggingFace GPT-2 {}\n",
            "Name: hf-gpt2.pt \tVersion: 1 \tDescription: GPT-2 model saved from pre-trained HuggingFace {}\n",
            "Name: pytorch-hf-gpt-onnx-int8 \tVersion: 1 \tDescription: None {}\n",
            "Name: pytorch-hf-gpt2-wikitext103 \tVersion: 1 \tDescription: None {}\n",
            "Name: pt-ort-hf-gpt2-wt103-full \tVersion: 1 \tDescription: HuggingFace GPT-2 fine-tuned with PyTorch ORT using Wikitext103 {}\n",
            "Name: sample-densenet-onnx-model \tVersion: 1 \tDescription: None {}\n",
            "Name: bert-large-uncased-whole-word-masking-finetuned-squad \tVersion: 2 \tDescription: HuggingFace Bert model fine-tuned with SQuAd and exported from PyTorch {'onnx': 'demo'}\n"
          ]
        }
      ],
      "source": [
        "models = ws.models\n",
        "for name, m in models.items():\n",
        "    print(\"Name:\", name,\"\\tVersion:\", m.version, \"\\tDescription:\", m.description, m.tags)\n",
        "    \n",
        "#     # If you'd like to delete the models from workspace\n",
        "#     model_to_delete = Model(ws, name)\n",
        "#     model_to_delete.delete()"
      ]
    },
    {
      "cell_type": "markdown",
      "metadata": {},
      "source": [
        "### Deploy the model \n",
        "\n",
        "We are now going to deploy our ONNX model on Azure ML using ONNX Runtime.\n",
        "\n",
        "Firstly we will test the deployment using an Azure Container Instance, then deploy the model for production using an Azure ML endpoint.\n",
        "\n"
      ]
    },
    {
      "cell_type": "markdown",
      "metadata": {},
      "source": [
        "## Deploy Model and Scoring code as an Azure ML endpoint\n",
        "\n",
        "Note that the endpoint interface of the Python SDK has not been publicly released yet, so for this section, we will use the Azure ML CLI.\n",
        "\n",
        "There are three YML files in the `yml` folder:\n",
        "* `env.yml`: A conda environment specification, from which the execution environment of the endpoint will be generated\n",
        "* `endpoint.yml`: The endpoint specification, which simply contains the name of the endpoint and the authorization method\n",
        "* `deployment.yml`: The deployment specification, which contains specifications of the scoring code, model, and environment. You can create multiple deployments per endpoint, and route different amounts of traffic to the deployments. For this example, we will create only one deployment.\n",
        "\n",
        "The deployment can take up to 15 minutes. Note also that all of the files in the directory with the notebook will be uploaded into the docker container that forms the basis of your endpoint, including any local copies of the ONNX model (which has already been deployed to AzureML in the previous step). To reduce the deployment time remove any local copies of large files, before creating the endpoint."
      ]
    },
    {
      "cell_type": "code",
      "execution_count": 46,
      "metadata": {},
      "outputs": [
        {
          "name": "stderr",
          "output_type": "stream",
          "text": [
            "WARNING: Command group 'ml online-endpoint' is in preview and under development. Reference and support levels: https://aka.ms/CLI_refstatus\n",
            "ERROR: Endpoint already exists\n"
          ]
        },
        {
          "name": "stdout",
          "output_type": "stream",
          "text": [
            "................................................................................................{\n",
            "  \"app_insights_enabled\": false,\n",
            "  \"code_configuration\": {\n",
            "    \"code\": \"/subscriptions/ea482afa-3a32-437c-aa10-7de928a9e793/resourceGroups/onnx_training/providers/Microsoft.MachineLearningServices/workspaces/ort_training_dev/codes/31ef67ea-8685-4a84-bf55-e1f4093dfeb7/versions/1\",\n",
            "    \"scoring_script\": \"score.py\"\n",
            "  },\n",
            "  \"endpoint_name\": \"question-answer-ort\",\n",
            "  \"environment\": \"azureml:/subscriptions/ea482afa-3a32-437c-aa10-7de928a9e793/resourceGroups/onnx_training/providers/Microsoft.MachineLearningServices/workspaces/ort_training_dev/environments/CliV2AnonymousEnvironment/versions/fa1284da-cb17-43fd-8e1a-141a3d906480\",\n",
            "  \"environment_variables\": {},\n",
            "  \"instance_count\": 1,\n",
            "  \"instance_type\": \"Standard_NC6s_v3\",\n",
            "  \"model\": \"azureml:/subscriptions/ea482afa-3a32-437c-aa10-7de928a9e793/resourceGroups/onnx_training/providers/Microsoft.MachineLearningServices/workspaces/ort_training_dev/models/bert-large-uncased-whole-word-masking-finetuned-squad/versions/3\",\n",
            "  \"name\": \"blue\",\n",
            "  \"properties\": {},\n",
            "  \"tags\": {},\n",
            "  \"type\": \"managed\"\n",
            "}\n"
          ]
        },
        {
          "name": "stderr",
          "output_type": "stream",
          "text": [
            "WARNING: Command group 'ml online-deployment' is in preview and under development. Reference and support levels: https://aka.ms/CLI_refstatus\n",
            "Check: endpoint question-answer-ort exists\n",
            "\n",
            "Uploading azureml (0.06 MBs):   0%|          | 0/59429 [00:00<?, ?it/s]\n",
            "Uploading azureml (0.06 MBs):  86%|########5 | 50997/59429 [00:00<00:00, 113618.55it/s]\n",
            "Uploading azureml (0.06 MBs): 100%|##########| 59429/59429 [00:00<00:00, 71431.32it/s] \n",
            "\n",
            "\n",
            "Creating/updating online deployment blue Done (8m 52s)\n"
          ]
        }
      ],
      "source": [
        "!az ml online-endpoint create --name question-answer-ort --file yml/endpoint.yml --subscription {ws.subscription_id} --resource-group {ws.resource_group} --workspace-name {ws.name} \n",
        "!az ml online-deployment create --endpoint-name question-answer-ort --name blue --file yml/deployment.yml --all-traffic --subscription {ws.subscription_id} --resource-group {ws.resource_group} --workspace-name {ws.name} "
      ]
    },
    {
      "cell_type": "markdown",
      "metadata": {},
      "source": [
        "### Test the deployed endpoint\n",
        "\n",
        "The following cell runs the deployed question answer model. There is a test question in the `test-data.json` file. You can edit this file with your own question and context."
      ]
    },
    {
      "cell_type": "code",
      "execution_count": 47,
      "metadata": {},
      "outputs": [
        {
          "name": "stdout",
          "output_type": "stream",
          "text": [
            "\"{\\\"answer\\\": \\\"Rebecca\\\"}\"\n"
          ]
        },
        {
          "name": "stderr",
          "output_type": "stream",
          "text": [
            "WARNING: Command group 'ml online-endpoint' is in preview and under development. Reference and support levels: https://aka.ms/CLI_refstatus\n"
          ]
        }
      ],
      "source": [
        "!az ml online-endpoint invoke --name question-answer-ort --request-file test-data.json --subscription {ws.subscription_id} --resource-group {ws.resource_group} --workspace-name {ws.name} "
      ]
    },
    {
      "cell_type": "markdown",
      "metadata": {},
      "source": [
        "## Success!\n",
        "\n",
        "If you've made it this far, you've deployed a working endpoint that answers a question using an ONNX model."
      ]
    },
    {
      "cell_type": "markdown",
      "metadata": {},
      "source": [
        "### Clean up Azure resources\n"
      ]
    },
    {
      "cell_type": "code",
      "execution_count": 38,
      "metadata": {},
      "outputs": [
        {
          "name": "stdout",
          "output_type": "stream",
          "text": [
            "............................................................................\n"
          ]
        },
        {
          "name": "stderr",
          "output_type": "stream",
          "text": [
            "WARNING: Command group 'ml online-endpoint' is in preview and under development. Reference and support levels: https://aka.ms/CLI_refstatus\n",
            "Deleting endpoint question-answer-ort Done (6m 49s)\n"
          ]
        }
      ],
      "source": [
        "!az ml online-endpoint delete --name question-answer-ort --yes --subscription {ws.subscription_id} --resource-group {ws.resource_group} --workspace-name {ws.name} \n"
      ]
    }
  ],
  "metadata": {
    "interpreter": {
      "hash": "f0528bd5f6ac7ac52612a9005b50b1458e2b7d1852103f3c7d5ad6e0d876b262"
    },
    "kernel_info": {
      "name": "gpu-kernel"
    },
    "kernelspec": {
      "display_name": "gpu-kernel",
      "language": "python",
      "name": "python3"
    },
    "language_info": {
      "codemirror_mode": {
        "name": "ipython",
        "version": 3
      },
      "file_extension": ".py",
      "mimetype": "text/x-python",
      "name": "python",
      "nbconvert_exporter": "python",
      "pygments_lexer": "ipython3",
      "version": "3.8.2"
    },
    "microsoft": {
      "host": {
        "AzureML": {
          "notebookHasBeenCompleted": true
        }
      }
    },
    "nteract": {
      "version": "nteract-front-end@1.0.0"
    }
  },
  "nbformat": 4,
  "nbformat_minor": 0
}
